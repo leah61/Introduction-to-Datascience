{
  "nbformat": 4,
  "nbformat_minor": 0,
  "metadata": {
    "colab": {
      "name": "Intro to py.ipynb",
      "version": "0.3.2",
      "provenance": [],
      "include_colab_link": true
    },
    "kernelspec": {
      "name": "python3",
      "display_name": "Python 3"
    }
  },
  "cells": [
    {
      "cell_type": "markdown",
      "metadata": {
        "id": "view-in-github",
        "colab_type": "text"
      },
      "source": [
        "<a href=\"https://colab.research.google.com/github/leah61/Introduction-to-Datascience/blob/master/Intro_to_py.ipynb\" target=\"_parent\"><img src=\"https://colab.research.google.com/assets/colab-badge.svg\" alt=\"Open In Colab\"/></a>"
      ]
    },
    {
      "cell_type": "code",
      "metadata": {
        "id": "g72PTp9Omt30",
        "colab_type": "code",
        "colab": {
          "base_uri": "https://localhost:8080/",
          "height": 34
        },
        "outputId": "0748589d-72aa-43ef-811b-d44832174b41"
      },
      "source": [
        " first_name = 'Leah'\n",
        " first_name.upper()"
      ],
      "execution_count": 27,
      "outputs": [
        {
          "output_type": "execute_result",
          "data": {
            "text/plain": [
              "'LEAH'"
            ]
          },
          "metadata": {
            "tags": []
          },
          "execution_count": 27
        }
      ]
    },
    {
      "cell_type": "code",
      "metadata": {
        "id": "kFoYxpXWpOvy",
        "colab_type": "code",
        "colab": {
          "base_uri": "https://localhost:8080/",
          "height": 34
        },
        "outputId": "98448802-ee8c-43ad-b8c1-15592124c2b8"
      },
      "source": [
        "first_name"
      ],
      "execution_count": 3,
      "outputs": [
        {
          "output_type": "execute_result",
          "data": {
            "text/plain": [
              "'Leah'"
            ]
          },
          "metadata": {
            "tags": []
          },
          "execution_count": 3
        }
      ]
    },
    {
      "cell_type": "code",
      "metadata": {
        "id": "YgQLgwGSpcVu",
        "colab_type": "code",
        "colab": {}
      },
      "source": [
        "first_name = 1"
      ],
      "execution_count": 0,
      "outputs": []
    },
    {
      "cell_type": "code",
      "metadata": {
        "id": "KfrQGCcwqGaa",
        "colab_type": "code",
        "colab": {
          "base_uri": "https://localhost:8080/",
          "height": 34
        },
        "outputId": "5d94fe86-85b1-469b-ed47-962556241228"
      },
      "source": [
        "first_name"
      ],
      "execution_count": 5,
      "outputs": [
        {
          "output_type": "execute_result",
          "data": {
            "text/plain": [
              "1"
            ]
          },
          "metadata": {
            "tags": []
          },
          "execution_count": 5
        }
      ]
    },
    {
      "cell_type": "code",
      "metadata": {
        "id": "9G6i9gHHqIbY",
        "colab_type": "code",
        "colab": {}
      },
      "source": [
        "#dictionary\n",
        "#fam_size= {'mum': 5,'dad': 4,'siz': 7}\n",
        "\n",
        "#list\n",
        "fam_name=[8,9,10]\n",
        "#fam_name.append =[('dad')]\n",
        "#print(fam_name)\n",
        "#tuples\n",
        "#fam = ('a','b')\n",
        "\n",
        "#intergers\n",
        "#height = [5,4,5]\n",
        "\n",
        "#float\n",
        "#weight = [62.5,45.2,70]\n",
        "\n",
        "#bool\n",
        "\n",
        "#age = True"
      ],
      "execution_count": 0,
      "outputs": []
    },
    {
      "cell_type": "code",
      "metadata": {
        "id": "UjfCywygs7FP",
        "colab_type": "code",
        "colab": {
          "base_uri": "https://localhost:8080/",
          "height": 34
        },
        "outputId": "0c5e5d67-e120-46b6-daec-378e9b0b2e2a"
      },
      "source": [
        "fam_size,fam_name"
      ],
      "execution_count": 8,
      "outputs": [
        {
          "output_type": "execute_result",
          "data": {
            "text/plain": [
              "({'dad': 4, 'mum': 5, 'siz': 7}, ['collins', 'leah', 'twi'])"
            ]
          },
          "metadata": {
            "tags": []
          },
          "execution_count": 8
        }
      ]
    },
    {
      "cell_type": "code",
      "metadata": {
        "id": "hPQ2-52ltKQ-",
        "colab_type": "code",
        "colab": {
          "base_uri": "https://localhost:8080/",
          "height": 34
        },
        "outputId": "c2a14be7-0298-47c3-b404-7b82e699ff01"
      },
      "source": [
        "fam, height,weight,age"
      ],
      "execution_count": 9,
      "outputs": [
        {
          "output_type": "execute_result",
          "data": {
            "text/plain": [
              "(('a', 'b'), [5, 4, 5], [62.5, 45.2, 70], True)"
            ]
          },
          "metadata": {
            "tags": []
          },
          "execution_count": 9
        }
      ]
    },
    {
      "cell_type": "code",
      "metadata": {
        "id": "gYPfryiRtPy_",
        "colab_type": "code",
        "colab": {}
      },
      "source": [
        "#Libraries\n",
        "import pandas as pd"
      ],
      "execution_count": 0,
      "outputs": []
    },
    {
      "cell_type": "code",
      "metadata": {
        "id": "kM5iiEDC4Jb2",
        "colab_type": "code",
        "colab": {
          "base_uri": "https://localhost:8080/",
          "height": 102
        },
        "outputId": "1742a234-e189-41fb-8ea9-6a967d541f4b"
      },
      "source": [
        "#Dataset\n",
        "data = pd.read_csv('http://bit.ly/FinancialDataset')\n",
        "#data.head(10)\n",
        "data.columns\n",
        "#data.info()\n",
        "#data.isnull().sum()\n",
        "#data.describe()\n",
        "#data.shape\n",
        "#data.year.unique()\n",
        "#data['household_size'].nunique() # No of household size\n"
      ],
      "execution_count": 59,
      "outputs": [
        {
          "output_type": "execute_result",
          "data": {
            "text/plain": [
              "Index(['country', 'year', 'uniqueid', 'Has a Bank account', 'Type of Location',\n",
              "       'Cell Phone Access', 'household_size', 'Respondent Age',\n",
              "       'gender_of_respondent', 'The relathip with head', 'marital_status',\n",
              "       'Level of Educuation', 'Type of Job'],\n",
              "      dtype='object')"
            ]
          },
          "metadata": {
            "tags": []
          },
          "execution_count": 59
        }
      ]
    },
    {
      "cell_type": "markdown",
      "metadata": {
        "id": "KCpgh79C_BkR",
        "colab_type": "text"
      },
      "source": [
        "### New Section"
      ]
    },
    {
      "cell_type": "code",
      "metadata": {
        "id": "EWzwYPS04r6y",
        "colab_type": "code",
        "colab": {
          "base_uri": "https://localhost:8080/",
          "height": 129
        },
        "outputId": "ac68f134-4f17-4aaf-9b69-01c25c45adfc"
      },
      "source": [
        "#len data['household_size'].unique()"
      ],
      "execution_count": 55,
      "outputs": [
        {
          "output_type": "error",
          "ename": "SyntaxError",
          "evalue": "ignored",
          "traceback": [
            "\u001b[0;36m  File \u001b[0;32m\"<ipython-input-55-bb5167cb47f8>\"\u001b[0;36m, line \u001b[0;32m1\u001b[0m\n\u001b[0;31m    len data['household_size'].unique()\u001b[0m\n\u001b[0m           ^\u001b[0m\n\u001b[0;31mSyntaxError\u001b[0m\u001b[0;31m:\u001b[0m invalid syntax\n"
          ]
        }
      ]
    },
    {
      "cell_type": "code",
      "metadata": {
        "id": "lafte8wfBxYB",
        "colab_type": "code",
        "colab": {}
      },
      "source": [
        "import matplotlib.pyplot as plt\n",
        "import seaborn as sns"
      ],
      "execution_count": 0,
      "outputs": []
    },
    {
      "cell_type": "code",
      "metadata": {
        "id": "zr5d09jwDliS",
        "colab_type": "code",
        "colab": {}
      },
      "source": [
        "data.dropna(inplace = True)"
      ],
      "execution_count": 0,
      "outputs": []
    },
    {
      "cell_type": "code",
      "metadata": {
        "id": "5uR5VX-VCbHb",
        "colab_type": "code",
        "colab": {
          "base_uri": "https://localhost:8080/",
          "height": 350
        },
        "outputId": "18245590-72cc-4642-8dc4-c4ce63592f2b"
      },
      "source": [
        "plt.figure(figsize = (8,5))\n",
        "sns.distplot(data['Respondent Age'], color= 'blue')\n",
        "plt.title('Histogram of Respondent Age')\n",
        "plt.xlabel('Respondent Age')\n",
        "plt.ylabel('Frequency')\n",
        "plt.show()"
      ],
      "execution_count": 67,
      "outputs": [
        {
          "output_type": "display_data",
          "data": {
            "image/png": "[encoded data removed]",
            "text/plain": [
              "<Figure size 576x360 with 1 Axes>"
            ]
          },
          "metadata": {
            "tags": []
          }
        }
      ]
    },
    {
      "cell_type": "code",
      "metadata": {
        "id": "uohXSGLsEPhl",
        "colab_type": "code",
        "colab": {
          "base_uri": "https://localhost:8080/",
          "height": 34
        },
        "outputId": "c7c625c1-554f-4a95-c563-7d959b237b3b"
      },
      "source": [
        "data['Respondent Age'].skew()"
      ],
      "execution_count": 69,
      "outputs": [
        {
          "output_type": "execute_result",
          "data": {
            "text/plain": [
              "0.840661747532081"
            ]
          },
          "metadata": {
            "tags": []
          },
          "execution_count": 69
        }
      ]
    },
    {
      "cell_type": "code",
      "metadata": {
        "id": "tCWn5QQ6Htp5",
        "colab_type": "code",
        "colab": {
          "base_uri": "https://localhost:8080/",
          "height": 546
        },
        "outputId": "ff32efeb-d698-4253-df37-564a15fdc7a0"
      },
      "source": [
        "plt.figure(figsize =(10,8))\n",
        "sns.countplot(data['marital_status'])\n",
        "plt.title('Bar plot marital_status', size = 30)\n",
        "plt.xlabel('marital_status', size = 30)\n",
        "plt.ylabel('number per marital_status')\n",
        "plt.show()"
      ],
      "execution_count": 82,
      "outputs": [
        {
          "output_type": "display_data",
          "data": {
            "image/png": "[encoded data removed]",
            "text/plain": [
              "<Figure size 720x576 with 1 Axes>"
            ]
          },
          "metadata": {
            "tags": []
          }
        }
      ]
    },
    {
      "cell_type": "code",
      "metadata": {
        "id": "_ugzKdE8IZmU",
        "colab_type": "code",
        "colab": {}
      },
      "source": [
        ""
      ],
      "execution_count": 0,
      "outputs": []
    }
  ]
}